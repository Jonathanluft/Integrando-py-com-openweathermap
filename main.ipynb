{
 "cells": [
  {
   "cell_type": "code",
   "execution_count": 48,
   "id": "c8dfaeb7-671b-463b-b617-4acc296b00d4",
   "metadata": {},
   "outputs": [],
   "source": [
    "# permite fazer chamadas na internet (HTTP)\n",
    "import requests\n",
    "\n",
    "#A função será usada para fins de organização\n",
    "def obter_clima(cidade, api_key):\n",
    "    #criacao de url base e parametros\n",
    "    base_url = \"http://api.openweathermap.org/data/2.5/weather\"\n",
    "    parametros = {\n",
    "        'q': cidade,\n",
    "        'appid': api_key,\n",
    "        'units': 'metric',\n",
    "        'lang': 'pt_br'\n",
    "    }\n",
    "    \n",
    "    try:\n",
    "        #faz a requisição da API \n",
    "        resposta = requests.get(base_url, params=parametros)\n",
    "        \n",
    "        #verifica se a requisição foi bem sucedida sendo 4xx ou 5xx um erro\n",
    "        resposta.raise_for_status()  \n",
    "        \n",
    "        #retorna a resposta, em formato de dicinário\n",
    "        return resposta.json()\n",
    "        \n",
    "        #RequestException trata varios tipos de erros de uma vez\n",
    "    except requests.exceptions.RequestException as e:\n",
    "        print(f\"Erro na requisição: {e}\")\n",
    "        return None\n",
    "\n",
    "# Configurações\n",
    "API_KEY = \"13ba7b34c4c1d8c96ee4d6fbb3292b5a\"\n",
    "CIDADE = \"Ivoti\"\n",
    "\n",
    "# Obter dados do clima\n",
    "dados_clima = obter_clima(CIDADE, API_KEY)\n",
    "\n",
    "#verifica se a função não retornou None\n",
    "if dados_clima:\n",
    "    #Buscando a condição do tempo\n",
    "    try:\n",
    "        condicao = (dados_clima['weather'][0]['main'])\n",
    "    except KeyError as e:\n",
    "        print(f\"Erro ao processar os dados: campo {e} não encontrado na resposta\")\n",
    "\n",
    "#integração com sistema de controle\n",
    "#variaveis do sistema\n",
    "sensor_umidade = 29 #buscar no codigo orincipal\n",
    "bomba_irrigação = False\n",
    "\n",
    "#A bomba sera ligada se a umidade for menor que 50% e a condição do tempo não seja: chuvisco, chuva ou tempestade\n",
    "bomba_irrigação = (True if sensor_umidade < 50 and condicao not in ['Rain','Drizzle','Thunderstorm'] else False)"
   ]
  }
 ],
 "metadata": {
  "kernelspec": {
   "display_name": "Python 3 (ipykernel)",
   "language": "python",
   "name": "python3"
  },
  "language_info": {
   "codemirror_mode": {
    "name": "ipython",
    "version": 3
   },
   "file_extension": ".py",
   "mimetype": "text/x-python",
   "name": "python",
   "nbconvert_exporter": "python",
   "pygments_lexer": "ipython3",
   "version": "3.12.7"
  }
 },
 "nbformat": 4,
 "nbformat_minor": 5
}
